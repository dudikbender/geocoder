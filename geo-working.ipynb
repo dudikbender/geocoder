{
 "cells": [
  {
   "cell_type": "code",
   "execution_count": 4,
   "id": "separated-blues",
   "metadata": {},
   "outputs": [],
   "source": [
    "import pandas as pd\n",
    "import numpy as np\n",
    "import matplotlib.pyplot as plt\n",
    "import geopandas as gpd\n",
    "from pyproj import transform, CRS, Proj\n",
    "import json\n",
    "from dotenv import find_dotenv, load_dotenv\n",
    "from pathlib import Path\n",
    "from os import environ\n",
    "from shapely.geometry import Point, Polygon\n",
    "from shapely.ops import transform as shapely_transform\n",
    "from functools import partial\n",
    "\n",
    "# Custom modules\n",
    "from app import GeocoderUtilities\n",
    "from app.utils import connection"
   ]
  },
  {
   "cell_type": "code",
   "execution_count": 5,
   "id": "ongoing-visit",
   "metadata": {},
   "outputs": [],
   "source": [
    "%load_ext autoreload\n",
    "%autoreload 2"
   ]
  },
  {
   "cell_type": "code",
   "execution_count": 6,
   "id": "exotic-leeds",
   "metadata": {
    "scrolled": true
   },
   "outputs": [
    {
     "data": {
      "text/plain": [
       "True"
      ]
     },
     "execution_count": 6,
     "metadata": {},
     "output_type": "execute_result"
    }
   ],
   "source": [
    "env_loc = find_dotenv('.env')\n",
    "load_dotenv(env_loc)"
   ]
  },
  {
   "cell_type": "code",
   "execution_count": 7,
   "id": "weighted-filling",
   "metadata": {},
   "outputs": [],
   "source": [
    "cur = connection.cursor()"
   ]
  },
  {
   "cell_type": "code",
   "execution_count": 8,
   "id": "studied-apache",
   "metadata": {},
   "outputs": [
    {
     "name": "stdout",
     "output_type": "stream",
     "text": [
      "UK_Wards\n",
      "UK_Local_Authorities\n",
      "UK_Constituencies\n",
      "UK_Election_2019\n",
      "Postcode_coordinates\n",
      "UK_Wards_Population\n",
      "local_authority_population_projections\n",
      "property_prices_2019\n"
     ]
    }
   ],
   "source": [
    "res = cur.execute(\"SELECT name FROM sqlite_master WHERE type='table';\")\n",
    "for i in res:\n",
    "    print(i['name'])"
   ]
  },
  {
   "cell_type": "code",
   "execution_count": 9,
   "id": "european-light",
   "metadata": {},
   "outputs": [],
   "source": [
    "geo = GeocoderUtilities()\n",
    "google_key = environ.get('GOOGLE_KEY')"
   ]
  },
  {
   "cell_type": "code",
   "execution_count": 10,
   "id": "surprising-speed",
   "metadata": {
    "scrolled": true
   },
   "outputs": [],
   "source": [
    "## Import ward shapefile and merge with population data\n",
    "ward_df = geo.sql_to_df('UK_Wards_Population', cur)\n",
    "# ward_shp = gpd.read_file('app/data/shapefiles/Wards__December_2017__Boundaries_in_GB.shx').to_crs(epsg=4326)\n",
    "# wards_gdf = ward_df.merge(ward_shp, left_on='Code', right_on='wd17cd', how='left')"
   ]
  },
  {
   "cell_type": "code",
   "execution_count": 11,
   "id": "single-listing",
   "metadata": {},
   "outputs": [],
   "source": [
    "sales_df = geo.sql_to_df('property_prices_2019', cur)\n",
    "sales_gdf = gpd.GeoDataFrame(sales_df, geometry=gpd.points_from_xy(sales_df.longitude,\n",
    "                                                                   sales_df.latitude)).set_crs(epsg=4326)"
   ]
  },
  {
   "cell_type": "code",
   "execution_count": 16,
   "id": "copyrighted-suffering",
   "metadata": {},
   "outputs": [
    {
     "data": {
      "text/html": [
       "<div>\n",
       "<style scoped>\n",
       "    .dataframe tbody tr th:only-of-type {\n",
       "        vertical-align: middle;\n",
       "    }\n",
       "\n",
       "    .dataframe tbody tr th {\n",
       "        vertical-align: top;\n",
       "    }\n",
       "\n",
       "    .dataframe thead th {\n",
       "        text-align: right;\n",
       "    }\n",
       "</style>\n",
       "<table border=\"1\" class=\"dataframe\">\n",
       "  <thead>\n",
       "    <tr style=\"text-align: right;\">\n",
       "      <th></th>\n",
       "      <th>location</th>\n",
       "    </tr>\n",
       "  </thead>\n",
       "  <tbody>\n",
       "    <tr>\n",
       "      <th>0</th>\n",
       "      <td>N4 2AR</td>\n",
       "    </tr>\n",
       "    <tr>\n",
       "      <th>1</th>\n",
       "      <td>NaN</td>\n",
       "    </tr>\n",
       "  </tbody>\n",
       "</table>\n",
       "</div>"
      ],
      "text/plain": [
       "  location\n",
       "0   N4 2AR\n",
       "1      NaN"
      ]
     },
     "execution_count": 16,
     "metadata": {},
     "output_type": "execute_result"
    }
   ],
   "source": [
    "df = pd.DataFrame({'location':['N4 2AR',np.nan]})\n",
    "df"
   ]
  },
  {
   "cell_type": "code",
   "execution_count": 1,
   "id": "alternate-helmet",
   "metadata": {},
   "outputs": [],
   "source": [
    "def df_merge_with_sales(dataframe: object, address_column: str, api_key: str, \n",
    "                        buffer_kilometres: float, region: str = 'uk',\n",
    "                       agg_function_list: str = 'sum,mean,median,count'):\n",
    "    \n",
    "    buffer_df = self.df_to_geodf_with_buffer(dataframe, address_column, api_key, buffer_kilometres, region)\n",
    "    sales_in_buffer = gpd.sjoin(buffer_df, sales_gdf, how='left', op='intersects')\n",
    "    full_gdf = sales_in_buffer\\\n",
    "               .groupby('location')\\\n",
    "               .agg({'AMOUNT':agg_function_list.split(',')})\\\n",
    "               .reset_index()\\\n",
    "               .dropna()\n",
    "    \n",
    "    return full_gdf"
   ]
  },
  {
   "cell_type": "code",
   "execution_count": 3,
   "id": "worth-variance",
   "metadata": {},
   "outputs": [],
   "source": [
    "## Process\n",
    "## 1. List of postcodes to analyse - x\n",
    "## 2. Geocode each postcode, returning lat-lng (func: geocode) -x\n",
    "## 3. Generate buffer boundary overlay (func: buffer) -x\n",
    "## 4a. Select wards within buffer (func: overlay boundaries) -x\n",
    "## 4b. Return dataframe of wards, summarise stats -x\n",
    "## 5a. Select properties within buffer (func: overlay points) -x\n",
    "## 5b. Return dataframe of properties, summarise stats\n",
    "\n",
    "## Instantiated\n",
    "## - Merging population dataframe with shapefile into GeoDataFrame -x\n",
    "## - GeoDataFrame with price, type, size, and Point Geometry -x"
   ]
  }
 ],
 "metadata": {
  "kernelspec": {
   "display_name": "Python 3",
   "language": "python",
   "name": "python3"
  },
  "language_info": {
   "codemirror_mode": {
    "name": "ipython",
    "version": 3
   },
   "file_extension": ".py",
   "mimetype": "text/x-python",
   "name": "python",
   "nbconvert_exporter": "python",
   "pygments_lexer": "ipython3",
   "version": "3.9.1"
  }
 },
 "nbformat": 4,
 "nbformat_minor": 5
}
