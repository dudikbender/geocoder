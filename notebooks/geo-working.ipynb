{
 "cells": [
  {
   "cell_type": "code",
   "execution_count": 1,
   "id": "separated-blues",
   "metadata": {},
   "outputs": [],
   "source": [
    "import pandas as pd\n",
    "import numpy as np\n",
    "import geopandas as gpd\n",
    "import pyproj\n",
    "import json\n",
    "from dotenv import find_dotenv, load_dotenv"
   ]
  },
  {
   "cell_type": "code",
   "execution_count": 2,
   "id": "creative-participation",
   "metadata": {},
   "outputs": [
    {
     "data": {
      "text/plain": [
       "True"
      ]
     },
     "execution_count": 2,
     "metadata": {},
     "output_type": "execute_result"
    }
   ],
   "source": [
    "env_loc = find_dotenv('.env')\n",
    "load_dotenv(env_loc)"
   ]
  },
  {
   "cell_type": "code",
   "execution_count": 3,
   "id": "worth-variance",
   "metadata": {},
   "outputs": [],
   "source": [
    "## Process\n",
    "## 1. List of postcodes to analyse\n",
    "## 2. Geocode each postcode, returning lat-lng (func: geocode)\n",
    "## 3. Generate buffer boundary overlay (func: buffer)\n",
    "## 4a. Select wards within buffer (func: overlay boundaries)\n",
    "## 4b. Return dataframe of wards, summarise stats\n",
    "## 5a. Select properties within buffer (func: overlay points)\n",
    "## 5b. Return dataframe of properties, summarise stats\n",
    "\n",
    "## Instantiated\n",
    "## - Merging population dataframe with shapefile into GeoDataFrame\n",
    "## - GeoDataFrame with price, type, size, and Point Geometry"
   ]
  },
  {
   "cell_type": "code",
   "execution_count": 21,
   "id": "mineral-patrol",
   "metadata": {},
   "outputs": [],
   "source": [
    "from pathlib import Path\n",
    "\n",
    "utilities_path = Path('geocoder/app/__init__.py')"
   ]
  },
  {
   "cell_type": "code",
   "execution_count": 29,
   "id": "unlike-shakespeare",
   "metadata": {},
   "outputs": [
    {
     "ename": "ModuleNotFoundError",
     "evalue": "No module named 'app'",
     "output_type": "error",
     "traceback": [
      "\u001b[0;31m---------------------------------------------------------------------------\u001b[0m",
      "\u001b[0;31mModuleNotFoundError\u001b[0m                       Traceback (most recent call last)",
      "\u001b[0;32m<ipython-input-29-4a814c2f0c85>\u001b[0m in \u001b[0;36m<module>\u001b[0;34m\u001b[0m\n\u001b[0;32m----> 1\u001b[0;31m \u001b[0;32mfrom\u001b[0m \u001b[0mapp\u001b[0m \u001b[0;32mimport\u001b[0m \u001b[0mGeocoderUtilities\u001b[0m\u001b[0;34m\u001b[0m\u001b[0;34m\u001b[0m\u001b[0m\n\u001b[0m",
      "\u001b[0;31mModuleNotFoundError\u001b[0m: No module named 'app'"
     ]
    }
   ],
   "source": [
    "from app import GeocoderUtilities"
   ]
  },
  {
   "cell_type": "code",
   "execution_count": null,
   "id": "honey-somewhere",
   "metadata": {},
   "outputs": [],
   "source": []
  }
 ],
 "metadata": {
  "kernelspec": {
   "display_name": "Python 3",
   "language": "python",
   "name": "python3"
  },
  "language_info": {
   "codemirror_mode": {
    "name": "ipython",
    "version": 3
   },
   "file_extension": ".py",
   "mimetype": "text/x-python",
   "name": "python",
   "nbconvert_exporter": "python",
   "pygments_lexer": "ipython3",
   "version": "3.9.1"
  }
 },
 "nbformat": 4,
 "nbformat_minor": 5
}
